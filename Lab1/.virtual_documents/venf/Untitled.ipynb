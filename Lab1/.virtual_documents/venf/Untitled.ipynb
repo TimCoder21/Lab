import pandas as pd
from sklearn.preprocessing import MinMaxScaler, StandardScaler

df = pd.read_csv("C:/Users/user/PycharmProjects/AILabs/Lab1/spaceship-titanic/test.csv")
df.info()
df.dtypes
print(df.head(100))
cols = df.columns

nan_matrix = df.isnull()
print(nan_matrix.head(100))
print(nan_matrix.sum())

nan_matrix = df.isnull()

rood_median = df['RoomService'].median()
age_median = df['Age'].median()
food_median = df['FoodCourt'].median()
shopping_median = df['ShoppingMall'].median()
vip_mean = df['VIP'].mean()
spa_mean = df['Spa'].mean()
vrdeck_mean = df['VRDeck'].mean()
cabin_mode = df['Cabin'].mode()[0]
planet_mode = df['HomePlanet'].mode()[0]
sleep_mode = df['CryoSleep'].mode()[0]
destination_mode = df['Destination'].mode()[0]
name_mode = df['Name'].mode()[0]

df.fillna({'Cabin': cabin_mode}, inplace=True)
df.fillna({'HomePlanet': planet_mode}, inplace=True)
df.fillna({'CryoSleep': sleep_mode}, inplace=True)
df.fillna({'Destination': destination_mode}, inplace=True)
df.fillna({'Name': name_mode}, inplace=True)
df.fillna({'RoomService': rood_median}, inplace=True)
df.fillna({'Age':age_median}, inplace=True)
df.fillna({'ShoppingMall': shopping_median}, inplace=True)
df.fillna({'FoodCourt':food_median}, inplace=True)
df.fillna({'VIP':vip_mean}, inplace=True)
df.fillna({'Spa':spa_mean}, inplace=True)
df.fillna({'VRDeck':vrdeck_mean}, inplace=True)

nan_matrix = df.isnull()
print(nan_matrix.sum())

scaler = MinMaxScaler()
df['Age'] = scaler.fit_transform(df[['Age']])










